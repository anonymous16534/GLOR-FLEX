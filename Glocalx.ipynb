{
 "cells": [
  {
   "cell_type": "code",
   "execution_count": 1,
   "id": "4f08d7de",
   "metadata": {},
   "outputs": [
    {
     "name": "stderr",
     "output_type": "stream",
     "text": [
      "C:\\Users\\012709558\\AppData\\Local\\Temp\\ipykernel_9528\\3913041839.py:2: DeprecationWarning: `np.float` is a deprecated alias for the builtin `float`. To silence this warning, use `float` by itself. Doing this will not modify any behavior and is safe. If you specifically wanted the numpy scalar type, use `np.float64` here.\n",
      "Deprecated in NumPy 1.20; for more details and guidance: https://numpy.org/devdocs/release/1.20.0-notes.html#deprecations\n",
      "  from numpy import genfromtxt, float as np_float\n"
     ]
    }
   ],
   "source": [
    "# from tensorflow.keras.models import load_model\n",
    "from numpy import genfromtxt, float as np_float\n",
    "import logzero\n",
    "import numpy as np\n",
    "from Glocalx.glocalx_main.glocalx import GLocalX, shut_up_tensorflow\n",
    "from Glocalx.glocalx_main.models import Rule\n",
    "from Glocalx.glocalx_main.evaluators import MemEvaluator\n",
    "# from Glocalx.glocalx_main.evaluators import DummyEvaluator\n",
    "# from Glocalx.glocalx_main.evaluators impor/t *\n",
    "\n",
    "\n",
    "import pandas as pd\n",
    "import torch.nn as nn\n",
    "import torch\n",
    "from metadata.meta import CheckPoint\n",
    "from abstract import pytorch_prediction\n",
    "import torch.nn.functional as F\n",
    "import json\n",
    "# import pickle"
   ]
  },
  {
   "cell_type": "code",
   "execution_count": 2,
   "id": "eddbdd51",
   "metadata": {},
   "outputs": [],
   "source": [
    "data0= pd.read_csv('Path of the GMM generated data on C0 side', header=None)\n",
    "data1 = pd.read_csv('Path of the GMM generated data on C1 side', header=None)\n",
    "data2= pd.read_csv('Path of the GMM generated data on C2 side', header=None)\n",
    "data3 = pd.read_csv('Path of the GMM generated data on C3 side', header=None)"
   ]
  },
  {
   "cell_type": "code",
   "execution_count": 4,
   "id": "6b366d3f",
   "metadata": {},
   "outputs": [],
   "source": [
    "dataset= pd.concat([data0, data1, data2, data3])"
   ]
  },
  {
   "cell_type": "code",
   "execution_count": 6,
   "id": "25fa6c4b",
   "metadata": {},
   "outputs": [],
   "source": [
    "data_value = dataset.values"
   ]
  },
  {
   "cell_type": "code",
   "execution_count": 7,
   "id": "a48f964a",
   "metadata": {},
   "outputs": [],
   "source": [
    "names = ['temp_hand',\n",
    " 'acceleration_16_x_hand',\n",
    " 'acceleration_16_y_hand',\n",
    " 'acceleration_16_z_hand',\n",
    " 'acceleration_6_x_hand',\n",
    " 'acceleration_6_y_hand',\n",
    " 'acceleration_6_z_hand',\n",
    " 'gyroscope_x_hand',\n",
    " 'gyroscope_y_hand',\n",
    " 'gyroscope_z_hand',\n",
    " 'magnetometer_x_hand',\n",
    " 'magnetometer_y_hand',\n",
    " 'magnetometer_z_hand',\n",
    " 'temp_chest',\n",
    " 'acceleration_16_x_chest',\n",
    " 'acceleration_16_y_chest',\n",
    " 'acceleration_16_z_chest',\n",
    " 'acceleration_6_x_chest',\n",
    " 'acceleration_6_y_chest',\n",
    " 'acceleration_6_z_chest',\n",
    " 'gyroscope_x_chest',\n",
    " 'gyroscope_y_chest',\n",
    " 'gyroscope_z_chest',\n",
    " 'magnetometer_x_chest',\n",
    " 'magnetometer_y_chest',\n",
    " 'magnetometer_z_chest',\n",
    " 'temp_ankle',\n",
    " 'acceleration_16_x_ankle',\n",
    " 'acceleration_16_y_ankle',\n",
    " 'acceleration_16_z_ankle',\n",
    " 'acceleration_6_x_ankle',\n",
    " 'acceleration_6_y_ankle',\n",
    " 'acceleration_6_z_ankle',\n",
    " 'gyroscope_x_ankle',\n",
    " 'gyroscope_y_ankle',\n",
    " 'gyroscope_z_ankle',\n",
    " 'magnetometer_x_ankle',\n",
    " 'magnetometer_y_ankle',\n",
    " 'magnetometer_z_ankle']\n",
    "class_name  = ['motion_n', 'motion_y']"
   ]
  },
  {
   "cell_type": "code",
   "execution_count": 9,
   "id": "dfecca6c",
   "metadata": {},
   "outputs": [],
   "source": [
    "\n",
    "\n",
    "\n",
    "class SimpleNet(nn.Module):\n",
    "    def __init__(self, hidden_1, dropout, output, input):\n",
    "        super(SimpleNet, self).__init__()\n",
    "\n",
    "        self.fc1 = nn.Linear(input, hidden_1)\n",
    "        self.fc2 = nn.Linear(hidden_1, output)\n",
    "        self.drop = nn.Dropout(dropout)\n",
    "\n",
    "    def forward(self, x):\n",
    "        x = F.relu(self.fc1(x))\n",
    "        x = self.drop(x)\n",
    "        x = self.fc2(x)\n",
    "        return x\n",
    "\n",
    "\n",
    "class Net(nn.Module):\n",
    "\n",
    "    def __init__(self, hidden_1, hidden_2, dropout, output,\n",
    "                 input\n",
    "                 ):\n",
    "\n",
    "        super(Net, self).__init__()\n",
    "        self.fc1 = nn.Linear(input, hidden_1)\n",
    "        self.fc2 = nn.Linear(hidden_1, hidden_2)\n",
    "        self.drop = nn.Dropout(dropout)\n",
    "        self.out = nn.Linear(hidden_2, output)\n",
    "\n",
    "    def forward(self, x):\n",
    "        x = F.relu(self.fc1(x))\n",
    "        x = F.relu(self.fc2(x))\n",
    "        x = self.drop(x)\n",
    "        x = self.out(x)\n",
    "        return x\n",
    "\n",
    "\n",
    "class Layer3Net(nn.Module):\n",
    "\n",
    "    def __init__(self, hidden_1, hidden_2, hidden_3,\n",
    "                 dropout, output, input\n",
    "                 ):\n",
    "\n",
    "        super(Layer3Net, self).__init__()\n",
    "        self.fc1 = nn.Linear(input, hidden_1)\n",
    "        self.fc2 = nn.Linear(hidden_1, hidden_2)\n",
    "        self.fc3 = nn.Linear(hidden_2, hidden_3)\n",
    "        self.drop = nn.Dropout(dropout)\n",
    "        self.out = nn.Linear(hidden_3, output)\n",
    "\n",
    "    def forward(self, x):\n",
    "        x = F.relu(self.fc1(x))\n",
    "        x = F.relu(self.fc2(x))\n",
    "        x = F.relu(self.fc3(x))\n",
    "        x = self.drop(x)\n",
    "        x = self.out(x)\n",
    "        return x\n",
    "\n",
    "\n",
    "def create_simple_net(hidden_1, dropout, output, input):\n",
    "    net = SimpleNet(hidden_1, dropout, output, input)\n",
    "    return net\n",
    "\n",
    "\n",
    "def create_net(hidden_1=300, hidden_2=100, dropout=0.1, output=2,\n",
    "               input=85):\n",
    "    net = Net(hidden_1, hidden_2, dropout, output,\n",
    "              input)\n",
    "    return net\n",
    "\n",
    "def create_layer3net(hidden_layer_1, hidden_layer_2, hidden_layer_3,\n",
    "                     dropout_rate, n_classes, n_features):\n",
    "    net = Layer3Net(hidden_layer_1, hidden_layer_2, hidden_layer_3,\n",
    "                    dropout_rate, n_classes, n_features)\n",
    "    return net\n"
   ]
  },
  {
   "cell_type": "code",
   "execution_count": 10,
   "id": "ac16cd41",
   "metadata": {},
   "outputs": [],
   "source": [
    "black_box = create_net(input = 39, hidden_1  = 256, hidden_2 = 256, dropout = 0.1, output = 2  )\n"
   ]
  },
  {
   "cell_type": "code",
   "execution_count": 11,
   "id": "ab357345",
   "metadata": {},
   "outputs": [],
   "source": [
    "ckpt_Ser = torch.load(open('path of the server model', 'rb'))"
   ]
  },
  {
   "cell_type": "code",
   "execution_count": 12,
   "id": "631281e9",
   "metadata": {},
   "outputs": [],
   "source": [
    "value_Ser = ckpt_Ser.model"
   ]
  },
  {
   "cell_type": "code",
   "execution_count": 13,
   "id": "389c3f7d",
   "metadata": {},
   "outputs": [
    {
     "data": {
      "text/plain": [
       "Net(\n",
       "  (fc1): Linear(in_features=39, out_features=256, bias=True)\n",
       "  (fc2): Linear(in_features=256, out_features=256, bias=True)\n",
       "  (drop): Dropout(p=0.1, inplace=False)\n",
       "  (out): Linear(in_features=256, out_features=2, bias=True)\n",
       ")"
      ]
     },
     "execution_count": 13,
     "metadata": {},
     "output_type": "execute_result"
    }
   ],
   "source": [
    "black_box.load_state_dict(value_Ser)\n",
    "black_box.eval()"
   ]
  },
  {
   "cell_type": "code",
   "execution_count": 14,
   "id": "200f605d",
   "metadata": {},
   "outputs": [],
   "source": [
    "bb = pytorch_prediction(black_box)"
   ]
  },
  {
   "cell_type": "code",
   "execution_count": 15,
   "id": "77319b85",
   "metadata": {},
   "outputs": [],
   "source": [
    "z = bb.predict(data_value)"
   ]
  },
  {
   "cell_type": "code",
   "execution_count": 16,
   "id": "c6e1e9f8",
   "metadata": {},
   "outputs": [],
   "source": [
    "c_0 = 0\n",
    "c_1 = 0\n",
    "for i in z:\n",
    "    if i==0:\n",
    "        c_0+=1\n",
    "    else:\n",
    "        c_1+=1\n"
   ]
  },
  {
   "cell_type": "code",
   "execution_count": 19,
   "id": "6a84d757",
   "metadata": {},
   "outputs": [],
   "source": [
    "# data = np.append(data_value, z, axis=1)\n",
    "data =np.column_stack((data_value, z))"
   ]
  },
  {
   "cell_type": "code",
   "execution_count": 21,
   "id": "0455ab0d",
   "metadata": {},
   "outputs": [
    {
     "data": {
      "text/plain": [
       "array([[0.39332783, 0.75780409, 0.45216197, ..., 0.46888097, 0.48014984,\n",
       "        0.        ],\n",
       "       [0.8751758 , 0.61168397, 0.45567865, ..., 0.40401564, 0.49591677,\n",
       "        1.        ],\n",
       "       [0.72176824, 0.70491835, 0.43364709, ..., 0.45583451, 0.46335781,\n",
       "        0.        ],\n",
       "       ...,\n",
       "       [0.80338885, 0.6852511 , 0.45254918, ..., 0.66768282, 0.49021561,\n",
       "        0.        ],\n",
       "       [0.85557475, 0.61151914, 0.38128   , ..., 0.47234891, 0.52924248,\n",
       "        1.        ],\n",
       "       [0.93528776, 0.68695296, 0.42635188, ..., 0.53197529, 0.43939034,\n",
       "        0.        ]])"
      ]
     },
     "execution_count": 21,
     "metadata": {},
     "output_type": "execute_result"
    }
   ],
   "source": [
    "# local_explanations = Rule.from_json('D:/HOLDA-main/Glocalx/glocalx_main/data/dummy/dummy_rules.json', names=features_names)\n",
    "data"
   ]
  },
  {
   "cell_type": "code",
   "execution_count": 22,
   "id": "dfb7e2c6",
   "metadata": {},
   "outputs": [],
   "source": [
    "local_explanations = Rule.from_json('path of the rules', names=names)\n"
   ]
  },
  {
   "cell_type": "code",
   "execution_count": 24,
   "id": "f55aabc8",
   "metadata": {},
   "outputs": [],
   "source": [
    "# Set log profile: INFO for normal logging, DEBUG for verbosity\n",
    "logzero.loglevel(logzero.logging.INFO)\n",
    "shut_up_tensorflow()\n",
    "\n",
    "# Load black box: optional! Use black_box = None to use the dataset labels\n",
    "# black_box = load_model('D:/HOLDA-main/examples/experiments/not_hier/ServerSCkpt/global_model.h5')\n",
    "# Load data and header\n",
    "# data = genfromtxt('D:/HOLDA-main/GMM_data/dummy_dataset.csv', delimiter=',', names=True)\n",
    "features_names = names\n",
    "# tr_set = data.view(np_float).reshape(data.shape + (-1,))\n",
    "tr_set = data#.reshape(data.shape + (-1,))\n",
    "# Ltr_setoad local explanations\n",
    "# local_explanations = Rule.from_json('data/dummy/dummy_rules.json', names=features_names)\n",
    "\n",
    "# Create a GLocalX instance for `black_box`\n",
    "glocalx = GLocalX(oracle=bb)\n",
    "# Fit the model, use batch_size=128 for larger datasets\n",
    "glocalx = glocalx.fit(local_explanations, tr_set, batch_size=2, name='black_box_explanations')\n",
    "\n"
   ]
  },
  {
   "cell_type": "code",
   "execution_count": 25,
   "id": "d891eb87",
   "metadata": {},
   "outputs": [],
   "source": [
    "y = bb.predict(data[:, :-1]).squeeze().round()\n",
    "fedality = MemEvaluator(oracle=bb)\n",
    "default = int(y.mean().round())\n"
   ]
  },
  {
   "cell_type": "code",
   "execution_count": 26,
   "id": "f3c88daf",
   "metadata": {},
   "outputs": [],
   "source": [
    "alpha = 10\n",
    "global_explanations_10 = glocalx.rules(alpha, tr_set, is_percentile=True)\n",
    "test = global_explanations_10"
   ]
  },
  {
   "cell_type": "code",
   "execution_count": 27,
   "id": "d7f1eb04",
   "metadata": {},
   "outputs": [
    {
     "name": "stdout",
     "output_type": "stream",
     "text": [
      "----------------------------------------------\n",
      "Alpha = 10\n",
      "The fedality of glocalx with alpha = 10: 0.7691250000000001\n",
      "The coverage of glocalx with alpha = 10: 1.0\n",
      "the total number of rules are 2427\n",
      "the number of rules with class = 0 are 1348\n",
      "the number of rules with class = 1 are 1079\n",
      "the avereage of the rule lenth with class = 0 are 8.257418397626113\n",
      "the avereage of the rule lenth with class = 1 are 8.289156626506024\n",
      "----------------------------------------------\n"
     ]
    }
   ],
   "source": [
    "print('----------------------------------------------')\n",
    "print('Alpha = 10')\n",
    "\n",
    "fedality_kjbfsk = fedality.binary_fidelity_model(units = test, x = data[:, :-1],  y = None, k=1 ,default =default)\n",
    "print('The fedality of glocalx with alpha = 10:' , fedality_kjbfsk)\n",
    "coverage_fk=fedality.coverage(test, data[:, :-1], targets=None, ids=None)\n",
    "print('The coverage of glocalx with alpha = 10:' , sum(coverage_fk.sum(axis=0)>0)/len(data[:, :-1]))\n",
    "total_rule_0 = 0\n",
    "counte_0 = 0\n",
    "counte_1 = 0\n",
    "total_rule_1 = 1\n",
    "for rule in test:\n",
    "\n",
    "    if rule.consequence == 0:\n",
    "        total_rule_0 +=  len(rule)\n",
    "        counte_0 += 1\n",
    "    else:\n",
    "        total_rule_1 += len(rule)\n",
    "        counte_1 +=1\n",
    "print('the total number of rules are', counte_0+counte_1)\n",
    "print('the number of rules with class = 0 are', counte_0)\n",
    "print('the number of rules with class = 1 are', counte_1)\n",
    "print('the avereage of the rule lenth with class = 0 are', total_rule_0/counte_0)\n",
    "print('the avereage of the rule lenth with class = 1 are', total_rule_1/counte_1)\n",
    "print('----------------------------------------------')"
   ]
  },
  {
   "cell_type": "code",
   "execution_count": 28,
   "id": "badda618",
   "metadata": {},
   "outputs": [],
   "source": [
    "alpha = 20\n",
    "global_explanations_20 = glocalx.rules(alpha, tr_set, is_percentile=True)\n",
    "test = global_explanations_20"
   ]
  },
  {
   "cell_type": "code",
   "execution_count": 29,
   "id": "19942215",
   "metadata": {},
   "outputs": [
    {
     "name": "stdout",
     "output_type": "stream",
     "text": [
      "----------------------------------------------\n",
      "Alpha = 20\n",
      "The fedality of glocalx with alpha = 10: 0.7691250000000001\n",
      "The coverage of glocalx with alpha = 10: 1.0\n",
      "the total number of rules are 2396\n",
      "the number of rules with class = 0 are 1348\n",
      "the number of rules with class = 1 are 1048\n",
      "the avereage of the rule lenth with class = 0 are 8.257418397626113\n",
      "the avereage of the rule lenth with class = 1 are 8.334923664122137\n",
      "----------------------------------------------\n"
     ]
    }
   ],
   "source": [
    "print('----------------------------------------------')\n",
    "print('Alpha = 20')\n",
    "\n",
    "fedality_kjbfsk = fedality.binary_fidelity_model(units = test, x = data[:, :-1],  y = None, k=1 ,default =default)\n",
    "print('The fedality of glocalx with alpha = 10:' , fedality_kjbfsk)\n",
    "coverage_fk=fedality.coverage(test, data[:, :-1], targets=None, ids=None)\n",
    "print('The coverage of glocalx with alpha = 10:' , sum(coverage_fk.sum(axis=0)>0)/len(data[:, :-1]))\n",
    "total_rule_0 = 0\n",
    "counte_0 = 0\n",
    "counte_1 = 0\n",
    "total_rule_1 = 1\n",
    "for rule in test:\n",
    "\n",
    "    if rule.consequence == 0:\n",
    "        total_rule_0 +=  len(rule)\n",
    "        counte_0 += 1\n",
    "    else:\n",
    "        total_rule_1 += len(rule)\n",
    "        counte_1 +=1\n",
    "\n",
    "print('the total number of rules are', counte_0+counte_1)\n",
    "print('the number of rules with class = 0 are', counte_0)\n",
    "print('the number of rules with class = 1 are', counte_1)\n",
    "print('the avereage of the rule lenth with class = 0 are', total_rule_0/counte_0)\n",
    "print('the avereage of the rule lenth with class = 1 are', total_rule_1/counte_1)\n",
    "print('----------------------------------------------')"
   ]
  },
  {
   "cell_type": "code",
   "execution_count": 30,
   "id": "45b01bf0",
   "metadata": {},
   "outputs": [],
   "source": [
    "alpha = 30\n",
    "global_explanations_30 = glocalx.rules(alpha, tr_set, is_percentile=True)\n",
    "test = global_explanations_30"
   ]
  },
  {
   "cell_type": "code",
   "execution_count": 31,
   "id": "25f15cd4",
   "metadata": {},
   "outputs": [
    {
     "name": "stdout",
     "output_type": "stream",
     "text": [
      "----------------------------------------------\n",
      "Alpha = 30\n",
      "The fedality of glocalx with alpha = 10: 0.7691250000000001\n",
      "The coverage of glocalx with alpha = 10: 1.0\n",
      "the total number of rules are 2360\n",
      "the number of rules with class = 0 are 1348\n",
      "the number of rules with class = 1 are 1012\n",
      "the avereage of the rule lenth with class = 0 are 8.257418397626113\n",
      "the avereage of the rule lenth with class = 1 are 8.359683794466402\n",
      "----------------------------------------------\n"
     ]
    }
   ],
   "source": [
    "print('----------------------------------------------')\n",
    "print('Alpha = 30')\n",
    "\n",
    "fedality_kjbfsk = fedality.binary_fidelity_model(units = test, x = data[:, :-1],  y = None, k=1 ,default =default)\n",
    "print('The fedality of glocalx with alpha = 10:' , fedality_kjbfsk)\n",
    "coverage_fk=fedality.coverage(test, data[:, :-1], targets=None, ids=None)\n",
    "print('The coverage of glocalx with alpha = 10:' , sum(coverage_fk.sum(axis=0)>0)/len(data[:, :-1]))\n",
    "total_rule_0 = 0\n",
    "counte_0 = 0\n",
    "counte_1 = 0\n",
    "total_rule_1 = 1\n",
    "for rule in test:\n",
    "\n",
    "    if rule.consequence == 0:\n",
    "        total_rule_0 +=  len(rule)\n",
    "        counte_0 += 1\n",
    "    else:\n",
    "        total_rule_1 += len(rule)\n",
    "        counte_1 +=1\n",
    "\n",
    "print('the total number of rules are', counte_0+counte_1)\n",
    "print('the number of rules with class = 0 are', counte_0)\n",
    "print('the number of rules with class = 1 are', counte_1)\n",
    "print('the avereage of the rule lenth with class = 0 are', total_rule_0/counte_0)\n",
    "print('the avereage of the rule lenth with class = 1 are', total_rule_1/counte_1)\n",
    "print('----------------------------------------------')"
   ]
  },
  {
   "cell_type": "code",
   "execution_count": 32,
   "id": "f991d31a",
   "metadata": {},
   "outputs": [],
   "source": [
    "alpha = 40\n",
    "global_explanations_40 = glocalx.rules(alpha, tr_set, is_percentile=True)\n",
    "test = global_explanations_40"
   ]
  },
  {
   "cell_type": "code",
   "execution_count": 33,
   "id": "8ef70faa",
   "metadata": {},
   "outputs": [
    {
     "name": "stdout",
     "output_type": "stream",
     "text": [
      "----------------------------------------------\n",
      "Alpha = 40\n",
      "The fedality of glocalx with alpha = 10: 0.7691250000000001\n",
      "The coverage of glocalx with alpha = 10: 1.0\n",
      "the total number of rules are 2322\n",
      "the number of rules with class = 0 are 1348\n",
      "the number of rules with class = 1 are 974\n",
      "the avereage of the rule lenth with class = 0 are 8.257418397626113\n",
      "the avereage of the rule lenth with class = 1 are 8.397330595482547\n",
      "----------------------------------------------\n"
     ]
    }
   ],
   "source": [
    "print('----------------------------------------------')\n",
    "print('Alpha = 40')\n",
    "\n",
    "fedality_kjbfsk = fedality.binary_fidelity_model(units = test, x = data[:, :-1],  y = None, k=1 ,default =default)\n",
    "print('The fedality of glocalx with alpha = 10:' , fedality_kjbfsk)\n",
    "coverage_fk=fedality.coverage(test, data[:, :-1], targets=None, ids=None)\n",
    "print('The coverage of glocalx with alpha = 10:' , sum(coverage_fk.sum(axis=0)>0)/len(data[:, :-1]))\n",
    "total_rule_0 = 0\n",
    "counte_0 = 0\n",
    "counte_1 = 0\n",
    "total_rule_1 = 1\n",
    "for rule in test:\n",
    "\n",
    "    if rule.consequence == 0:\n",
    "        total_rule_0 +=  len(rule)\n",
    "        counte_0 += 1\n",
    "    else:\n",
    "        total_rule_1 += len(rule)\n",
    "        counte_1 +=1\n",
    "\n",
    "print('the total number of rules are', counte_0+counte_1)\n",
    "print('the number of rules with class = 0 are', counte_0)\n",
    "print('the number of rules with class = 1 are', counte_1)\n",
    "print('the avereage of the rule lenth with class = 0 are', total_rule_0/counte_0)\n",
    "print('the avereage of the rule lenth with class = 1 are', total_rule_1/counte_1)\n",
    "print('----------------------------------------------')"
   ]
  },
  {
   "cell_type": "code",
   "execution_count": 34,
   "id": "71685dd6",
   "metadata": {},
   "outputs": [],
   "source": [
    "alpha = 50\n",
    "global_explanations_50 = glocalx.rules(alpha, tr_set, is_percentile=True)\n",
    "test = global_explanations_50"
   ]
  },
  {
   "cell_type": "code",
   "execution_count": 35,
   "id": "ccf0e942",
   "metadata": {},
   "outputs": [
    {
     "name": "stdout",
     "output_type": "stream",
     "text": [
      "----------------------------------------------\n",
      "Alpha = 50\n",
      "The fedality of glocalx with alpha = 10: 0.7691250000000001\n",
      "The coverage of glocalx with alpha = 10: 1.0\n",
      "the total number of rules are 2267\n",
      "the number of rules with class = 0 are 1348\n",
      "the number of rules with class = 1 are 919\n",
      "the avereage of the rule lenth with class = 0 are 8.257418397626113\n",
      "the avereage of the rule lenth with class = 1 are 8.44613710554951\n",
      "----------------------------------------------\n"
     ]
    }
   ],
   "source": [
    "print('----------------------------------------------')\n",
    "print('Alpha = 50')\n",
    "\n",
    "fedality_kjbfsk = fedality.binary_fidelity_model(units = test, x = data[:, :-1],  y = None, k=1 ,default =default)\n",
    "print('The fedality of glocalx with alpha = 10:' , fedality_kjbfsk)\n",
    "coverage_fk=fedality.coverage(test, data[:, :-1], targets=None, ids=None)\n",
    "print('The coverage of glocalx with alpha = 10:' , sum(coverage_fk.sum(axis=0)>0)/len(data[:, :-1]))\n",
    "total_rule_0 = 0\n",
    "counte_0 = 0\n",
    "counte_1 = 0\n",
    "total_rule_1 = 1\n",
    "for rule in test:\n",
    "\n",
    "    if rule.consequence == 0:\n",
    "        total_rule_0 +=  len(rule)\n",
    "        counte_0 += 1\n",
    "    else:\n",
    "        total_rule_1 += len(rule)\n",
    "        counte_1 +=1\n",
    "\n",
    "print('the total number of rules are', counte_0+counte_1)\n",
    "print('the number of rules with class = 0 are', counte_0)\n",
    "print('the number of rules with class = 1 are', counte_1)\n",
    "print('the avereage of the rule lenth with class = 0 are', total_rule_0/counte_0)\n",
    "print('the avereage of the rule lenth with class = 1 are', total_rule_1/counte_1)\n",
    "print('----------------------------------------------')"
   ]
  },
  {
   "cell_type": "code",
   "execution_count": 36,
   "id": "6cefed99",
   "metadata": {},
   "outputs": [],
   "source": [
    "alpha = 60\n",
    "global_explanations_60 = glocalx.rules(alpha, tr_set, is_percentile=True)\n",
    "test = global_explanations_60"
   ]
  },
  {
   "cell_type": "code",
   "execution_count": 37,
   "id": "2bcfff7b",
   "metadata": {},
   "outputs": [
    {
     "name": "stdout",
     "output_type": "stream",
     "text": [
      "----------------------------------------------\n",
      "Alpha = 60\n",
      "The fedality of glocalx with alpha = 10: 0.7691250000000001\n",
      "The coverage of glocalx with alpha = 10: 1.0\n",
      "the total number of rules are 2205\n",
      "the number of rules with class = 0 are 1348\n",
      "the number of rules with class = 1 are 857\n",
      "the avereage of the rule lenth with class = 0 are 8.257418397626113\n",
      "the avereage of the rule lenth with class = 1 are 8.512252042007\n",
      "----------------------------------------------\n"
     ]
    }
   ],
   "source": [
    "print('----------------------------------------------')\n",
    "print('Alpha = 60')\n",
    "\n",
    "fedality_kjbfsk = fedality.binary_fidelity_model(units = test, x = data[:, :-1],  y = None, k=1 ,default =default)\n",
    "print('The fedality of glocalx with alpha = 10:' , fedality_kjbfsk)\n",
    "coverage_fk=fedality.coverage(test, data[:, :-1], targets=None, ids=None)\n",
    "print('The coverage of glocalx with alpha = 10:' , sum(coverage_fk.sum(axis=0)>0)/len(data[:, :-1]))\n",
    "total_rule_0 = 0\n",
    "counte_0 = 0\n",
    "counte_1 = 0\n",
    "total_rule_1 = 1\n",
    "for rule in test:\n",
    "\n",
    "    if rule.consequence == 0:\n",
    "        total_rule_0 +=  len(rule)\n",
    "        counte_0 += 1\n",
    "    else:\n",
    "        total_rule_1 += len(rule)\n",
    "        counte_1 +=1\n",
    "\n",
    "print('the total number of rules are', counte_0+counte_1)\n",
    "print('the number of rules with class = 0 are', counte_0)\n",
    "print('the number of rules with class = 1 are', counte_1)\n",
    "print('the avereage of the rule lenth with class = 0 are', total_rule_0/counte_0)\n",
    "print('the avereage of the rule lenth with class = 1 are', total_rule_1/counte_1)\n",
    "print('----------------------------------------------')"
   ]
  },
  {
   "cell_type": "code",
   "execution_count": 38,
   "id": "545682c0",
   "metadata": {},
   "outputs": [],
   "source": [
    "alpha = 70\n",
    "global_explanations_70 = glocalx.rules(alpha, tr_set, is_percentile=True)\n",
    "test = global_explanations_70"
   ]
  },
  {
   "cell_type": "code",
   "execution_count": 39,
   "id": "53fec83c",
   "metadata": {},
   "outputs": [
    {
     "name": "stdout",
     "output_type": "stream",
     "text": [
      "----------------------------------------------\n",
      "Alpha = 70\n",
      "The fedality of glocalx with alpha = 10: 0.7691250000000001\n",
      "The coverage of glocalx with alpha = 10: 1.0\n",
      "the total number of rules are 2053\n",
      "the number of rules with class = 0 are 1348\n",
      "the number of rules with class = 1 are 705\n",
      "the avereage of the rule lenth with class = 0 are 8.257418397626113\n",
      "the avereage of the rule lenth with class = 1 are 8.574468085106384\n",
      "----------------------------------------------\n"
     ]
    }
   ],
   "source": [
    "print('----------------------------------------------')\n",
    "print('Alpha = 70')\n",
    "\n",
    "fedality_kjbfsk = fedality.binary_fidelity_model(units = test, x = data[:, :-1],  y = None, k=1 ,default =default)\n",
    "print('The fedality of glocalx with alpha = 10:' , fedality_kjbfsk)\n",
    "coverage_fk=fedality.coverage(test, data[:, :-1], targets=None, ids=None)\n",
    "print('The coverage of glocalx with alpha = 10:' , sum(coverage_fk.sum(axis=0)>0)/len(data[:, :-1]))\n",
    "total_rule_0 = 0\n",
    "counte_0 = 0\n",
    "counte_1 = 0\n",
    "total_rule_1 = 1\n",
    "for rule in test:\n",
    "\n",
    "    if rule.consequence == 0:\n",
    "        total_rule_0 +=  len(rule)\n",
    "        counte_0 += 1\n",
    "    else:\n",
    "        total_rule_1 += len(rule)\n",
    "        counte_1 +=1\n",
    "\n",
    "print('the total number of rules are', counte_0+counte_1)\n",
    "print('the number of rules with class = 0 are', counte_0)\n",
    "print('the number of rules with class = 1 are', counte_1)\n",
    "print('the avereage of the rule lenth with class = 0 are', total_rule_0/counte_0)\n",
    "print('the avereage of the rule lenth with class = 1 are', total_rule_1/counte_1)\n",
    "print('----------------------------------------------')"
   ]
  },
  {
   "cell_type": "code",
   "execution_count": 40,
   "id": "27cce6a3",
   "metadata": {},
   "outputs": [],
   "source": [
    "alpha = 80\n",
    "global_explanations_80 = glocalx.rules(alpha, tr_set, is_percentile=True)\n",
    "test = global_explanations_80"
   ]
  },
  {
   "cell_type": "code",
   "execution_count": 41,
   "id": "d1689059",
   "metadata": {},
   "outputs": [
    {
     "name": "stdout",
     "output_type": "stream",
     "text": [
      "----------------------------------------------\n",
      "Alpha = 80\n",
      "The fedality of glocalx with alpha = 10: 0.775325\n",
      "The coverage of glocalx with alpha = 10: 1.0\n",
      "the total number of rules are 1452\n",
      "the number of rules with class = 0 are 1348\n",
      "the number of rules with class = 1 are 104\n",
      "the avereage of the rule lenth with class = 0 are 8.257418397626113\n",
      "the avereage of the rule lenth with class = 1 are 8.076923076923077\n",
      "----------------------------------------------\n"
     ]
    }
   ],
   "source": [
    "print('----------------------------------------------')\n",
    "print('Alpha = 80')\n",
    "\n",
    "fedality_kjbfsk = fedality.binary_fidelity_model(units = test, x = data[:, :-1],  y = None, k=1 ,default =default)\n",
    "print('The fedality of glocalx with alpha = 10:' , fedality_kjbfsk)\n",
    "coverage_fk=fedality.coverage(test, data[:, :-1], targets=None, ids=None)\n",
    "print('The coverage of glocalx with alpha = 10:' , sum(coverage_fk.sum(axis=0)>0)/len(data[:, :-1]))\n",
    "total_rule_0 = 0\n",
    "counte_0 = 0\n",
    "counte_1 = 0\n",
    "total_rule_1 = 1\n",
    "for rule in test:\n",
    "\n",
    "    if rule.consequence == 0:\n",
    "        total_rule_0 +=  len(rule)\n",
    "        counte_0 += 1\n",
    "    else:\n",
    "        total_rule_1 += len(rule)\n",
    "        counte_1 +=1\n",
    "\n",
    "print('the total number of rules are', counte_0+counte_1)\n",
    "print('the number of rules with class = 0 are', counte_0)\n",
    "print('the number of rules with class = 1 are', counte_1)\n",
    "print('the avereage of the rule lenth with class = 0 are', total_rule_0/counte_0)\n",
    "print('the avereage of the rule lenth with class = 1 are', total_rule_1/counte_1)\n",
    "print('----------------------------------------------')"
   ]
  },
  {
   "cell_type": "code",
   "execution_count": 42,
   "id": "fba7f792",
   "metadata": {},
   "outputs": [],
   "source": [
    "alpha = 90\n",
    "global_explanations_90 = glocalx.rules(alpha, tr_set, is_percentile=True)\n",
    "test = global_explanations_90"
   ]
  },
  {
   "cell_type": "code",
   "execution_count": 43,
   "id": "5b7a1474",
   "metadata": {},
   "outputs": [
    {
     "name": "stdout",
     "output_type": "stream",
     "text": [
      "----------------------------------------------\n",
      "Alpha = 90\n",
      "The fedality of glocalx with alpha = 10: 0.787425\n",
      "The coverage of glocalx with alpha = 10: 1.0\n",
      "the total number of rules are 1387\n",
      "the number of rules with class = 0 are 1348\n",
      "the number of rules with class = 1 are 39\n",
      "the avereage of the rule lenth with class = 0 are 8.257418397626113\n",
      "the avereage of the rule lenth with class = 1 are 8.153846153846153\n",
      "----------------------------------------------\n"
     ]
    }
   ],
   "source": [
    "print('----------------------------------------------')\n",
    "print('Alpha = 90')\n",
    "\n",
    "fedality_kjbfsk = fedality.binary_fidelity_model(units = test, x = data[:, :-1],  y = None, k=1 ,default =default)\n",
    "print('The fedality of glocalx with alpha = 10:' , fedality_kjbfsk)\n",
    "coverage_fk=fedality.coverage(test, data[:, :-1], targets=None, ids=None)\n",
    "print('The coverage of glocalx with alpha = 10:' , sum(coverage_fk.sum(axis=0)>0)/len(data[:, :-1]))\n",
    "total_rule_0 = 0\n",
    "counte_0 = 0\n",
    "counte_1 = 0\n",
    "total_rule_1 = 1\n",
    "for rule in test:\n",
    "\n",
    "    if rule.consequence == 0:\n",
    "        total_rule_0 +=  len(rule)\n",
    "        counte_0 += 1\n",
    "    else:\n",
    "        total_rule_1 += len(rule)\n",
    "        counte_1 +=1\n",
    "\n",
    "print('the total number of rules are', counte_0+counte_1)\n",
    "print('the number of rules with class = 0 are', counte_0)\n",
    "print('the number of rules with class = 1 are', counte_1)\n",
    "print('the avereage of the rule lenth with class = 0 are', total_rule_0/counte_0)\n",
    "print('the avereage of the rule lenth with class = 1 are', total_rule_1/counte_1)\n",
    "print('----------------------------------------------')"
   ]
  },
  {
   "cell_type": "code",
   "execution_count": 44,
   "id": "b6d48e9d",
   "metadata": {},
   "outputs": [],
   "source": [
    "alpha = 100\n",
    "global_explanations_100 = glocalx.rules(alpha, tr_set, is_percentile=True)\n",
    "test = global_explanations_100"
   ]
  },
  {
   "cell_type": "code",
   "execution_count": 45,
   "id": "5ee47a6f",
   "metadata": {},
   "outputs": [
    {
     "name": "stdout",
     "output_type": "stream",
     "text": [
      "----------------------------------------------\n",
      "Alpha = 100\n",
      "The fedality of glocalx with alpha = 10: 0.765575\n",
      "The coverage of glocalx with alpha = 10: 1.0\n",
      "the total number of rules are 1349\n",
      "the number of rules with class = 0 are 1348\n",
      "the number of rules with class = 1 are 1\n",
      "the avereage of the rule lenth with class = 0 are 8.257418397626113\n",
      "the avereage of the rule lenth with class = 1 are 8.0\n",
      "----------------------------------------------\n"
     ]
    }
   ],
   "source": [
    "print('----------------------------------------------')\n",
    "print('Alpha = 100')\n",
    "\n",
    "fedality_kjbfsk = fedality.binary_fidelity_model(units = test, x = data[:, :-1],  y = None, k=1 ,default =default)\n",
    "print('The fedality of glocalx with alpha = 10:' , fedality_kjbfsk)\n",
    "coverage_fk=fedality.coverage(test, data[:, :-1], targets=None, ids=None)\n",
    "print('The coverage of glocalx with alpha = 10:' , sum(coverage_fk.sum(axis=0)>0)/len(data[:, :-1]))\n",
    "total_rule_0 = 0\n",
    "counte_0 = 0\n",
    "counte_1 = 0\n",
    "total_rule_1 = 1\n",
    "for rule in test:\n",
    "\n",
    "    if rule.consequence == 0:\n",
    "        total_rule_0 +=  len(rule)\n",
    "        counte_0 += 1\n",
    "    else:\n",
    "        total_rule_1 += len(rule)\n",
    "        counte_1 +=1\n",
    "\n",
    "print('the total number of rules are', counte_0+counte_1)\n",
    "print('the number of rules with class = 0 are', counte_0)\n",
    "print('the number of rules with class = 1 are', counte_1)\n",
    "print('the avereage of the rule lenth with class = 0 are', total_rule_0/counte_0)\n",
    "print('the avereage of the rule lenth with class = 1 are', total_rule_1/counte_1)\n",
    "print('----------------------------------------------')"
   ]
  },
  {
   "cell_type": "code",
   "execution_count": 46,
   "id": "7afed3b0",
   "metadata": {},
   "outputs": [],
   "source": [
    "alpha = 0\n",
    "global_explanations_100 = glocalx.rules(alpha, tr_set, is_percentile=True)\n",
    "test = global_explanations_100"
   ]
  },
  {
   "cell_type": "code",
   "execution_count": 47,
   "id": "c50922b0",
   "metadata": {},
   "outputs": [
    {
     "name": "stdout",
     "output_type": "stream",
     "text": [
      "----------------------------------------------\n",
      "Alpha = 0\n",
      "The fedality of glocalx with alpha = 10: 0.7691250000000001\n",
      "The coverage of glocalx with alpha = 10: 1.0\n",
      "the total number of rules are 2459\n",
      "the number of rules with class = 0 are 1348\n",
      "the number of rules with class = 1 are 1111\n",
      "the avereage of the rule lenth with class = 0 are 8.257418397626113\n",
      "the avereage of the rule lenth with class = 1 are 8.24032403240324\n",
      "----------------------------------------------\n"
     ]
    }
   ],
   "source": [
    "print('----------------------------------------------')\n",
    "print('Alpha = 0')\n",
    "\n",
    "fedality_kjbfsk = fedality.binary_fidelity_model(units = test, x = data[:, :-1],  y = None, k=1 ,default =default)\n",
    "print('The fedality of glocalx with alpha = 10:' , fedality_kjbfsk)\n",
    "coverage_fk=fedality.coverage(test, data[:, :-1], targets=None, ids=None)\n",
    "print('The coverage of glocalx with alpha = 10:' , sum(coverage_fk.sum(axis=0)>0)/len(data[:, :-1]))\n",
    "total_rule_0 = 0\n",
    "counte_0 = 0\n",
    "counte_1 = 0\n",
    "total_rule_1 = 1\n",
    "for rule in test:\n",
    "\n",
    "    if rule.consequence == 0:\n",
    "        total_rule_0 +=  len(rule)\n",
    "        counte_0 += 1\n",
    "    else:\n",
    "        total_rule_1 += len(rule)\n",
    "        counte_1 +=1\n",
    "\n",
    "print('the total number of rules are', counte_0+counte_1)\n",
    "print('the number of rules with class = 0 are', counte_0)\n",
    "print('the number of rules with class = 1 are', counte_1)\n",
    "print('the avereage of the rule lenth with class = 0 are', total_rule_0/counte_0)\n",
    "print('the avereage of the rule lenth with class = 1 are', total_rule_1/counte_1)\n",
    "print('----------------------------------------------')"
   ]
  }
 ],
 "metadata": {
  "kernelspec": {
   "display_name": "Python 3 (ipykernel)",
   "language": "python",
   "name": "python3"
  },
  "language_info": {
   "codemirror_mode": {
    "name": "ipython",
    "version": 3
   },
   "file_extension": ".py",
   "mimetype": "text/x-python",
   "name": "python",
   "nbconvert_exporter": "python",
   "pygments_lexer": "ipython3",
   "version": "3.10.9"
  }
 },
 "nbformat": 4,
 "nbformat_minor": 5
}
