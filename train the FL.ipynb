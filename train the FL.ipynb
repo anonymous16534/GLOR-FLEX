{
 "cells": [
  {
   "cell_type": "code",
   "execution_count": 1,
   "id": "135ecdfe",
   "metadata": {},
   "outputs": [],
   "source": [
    "import xml.etree.ElementTree as ET\n",
    "from utils.read_xml import parse_architecture_tag\n",
    "from absl import flags\n",
    "from absl import app"
   ]
  },
  {
   "cell_type": "code",
   "execution_count": 2,
   "id": "8c4268d3",
   "metadata": {},
   "outputs": [],
   "source": [
    "filename = 'architectures/holda/holda_not_hier.xml'\n",
    "pers = 'pers'\n",
    "only_pers = False"
   ]
  },
  {
   "cell_type": "code",
   "execution_count": 3,
   "id": "1a556e53",
   "metadata": {
    "scrolled": true
   },
   "outputs": [
    {
     "name": "stdout",
     "output_type": "stream",
     "text": [
      "{'use_deltas': True, 'use_state': True}\n",
      "\n",
      "--------------------------------------------------\n",
      "Server Config:  ServerConfig(metadata=Metadata_Server(id='ServerS', log_path='./examples/experiments/not_hier/logs/log_ServerS.txt', ckpt_best='./examples/experiments/not_hier/ServerSCkpt/ServerS_best.pt', ckpt_epoch='./examples/experiments/not_hier/ServerSCkpt/ServerS_epoch.pt'), training_params=HP_Training_Server(build_model_fn=functools.partial(<function create_net at 0x000002E576646560>, input=39, hidden_1=256, hidden_2=256, dropout=0.1, output=2), epochs=10, patience=10, sample_size=1.0, aggregation_fn=functools.partial(<function aggregate_nn_weighted at 0x000002E5766460E0>), init_model_fn=functools.partial(<function init_model_nn at 0x000002E576645FC0>), extract_model_fn=functools.partial(<function extract_model_nn at 0x000002E576645F30>), epoch2ckpt=10, from_check=False, starting_model_path=''), use_deltas=True, target_label='motion_n')\n",
      "--------------------------------------------------\n",
      "\n",
      "\n",
      "--------------------------------------------------\n",
      "Client Config:  ClientConfig(metadata=Metadata_Client(id='Client_C0', log_path='./examples/experiments/not_hier/logs/log_clientC0.txt', ckpt_best='./examples/experiments/not_hier/ClientC0Ckpt/clientC0_best.pt', ckpt_epoch='./examples/experiments/not_hier/ClientC0Ckpt/clientC0_epoch.pt', metrics={'accuracy': <function accuracy_score at 0x000002E56905AE60>, 'precision': functools.partial(<function precision_score at 0x000002E56905B5B0>, labels=[0, 1], average='weighted', zero_division=0), 'recall': functools.partial(<function recall_score at 0x000002E56905B640>, labels=[0, 1], average='weighted', zero_division=0), 'f1': functools.partial(<function f1_score at 0x000002E56905B1C0>, labels=[0, 1], average='weighted', zero_division=0)}, n_classes=2, train_path='./examples/datasets/node_0/adult_train_enc.csv', val_path='./examples/datasets/node_0/adult_val_enc.csv', test_path='./examples/datasets/node_0/adult_test_enc.csv'), training_params=HP_Training_Client(build_model_fn=functools.partial(<function create_net at 0x000002E576646560>, input=39, hidden_1=256, hidden_2=256, dropout=0.1, output=2), optimizer_fn=functools.partial(<class 'torch.optim.adam.Adam'>, lr=0.005), loss_fn=functools.partial(<class 'torch.nn.modules.loss.CrossEntropyLoss'>), epochs=3, batch_size=512, patience=10, epoch2ckpt=10, use_weights=True), pers_training_params=HP_Training_Client(build_model_fn=functools.partial(<function create_net at 0x000002E576646560>, input=39, hidden_1=256, hidden_2=256, dropout=0.1, output=2), optimizer_fn=functools.partial(<class 'torch.optim.adam.Adam'>, lr=0.005), loss_fn=functools.partial(<class 'torch.nn.modules.loss.CrossEntropyLoss'>), epochs=10, batch_size=128, patience=10, epoch2ckpt=10, use_weights=True))\n",
      "--------------------------------------------------\n",
      "\n",
      "\n",
      "--------------------------------------------------\n",
      "Client Config:  ClientConfig(metadata=Metadata_Client(id='Client_C1', log_path='./examples/experiments/not_hier/logs/log_clientC1.txt', ckpt_best='./examples/experiments/not_hier/ClientC1Ckpt/clientC1_best.pt', ckpt_epoch='./examples/experiments/not_hier/ClientC1Ckpt/clientC1_epoch.pt', metrics={'accuracy': <function accuracy_score at 0x000002E56905AE60>, 'precision': functools.partial(<function precision_score at 0x000002E56905B5B0>, labels=[0, 1], average='weighted', zero_division=0), 'recall': functools.partial(<function recall_score at 0x000002E56905B640>, labels=[0, 1], average='weighted', zero_division=0), 'f1': functools.partial(<function f1_score at 0x000002E56905B1C0>, labels=[0, 1], average='weighted', zero_division=0)}, n_classes=2, train_path='./examples/datasets/node_1/adult_train_enc.csv', val_path='./examples/datasets/node_1/adult_val_enc.csv', test_path='./examples/datasets/node_1/adult_test_enc.csv'), training_params=HP_Training_Client(build_model_fn=functools.partial(<function create_net at 0x000002E576646560>, input=39, hidden_1=256, hidden_2=256, dropout=0.1, output=2), optimizer_fn=functools.partial(<class 'torch.optim.adam.Adam'>, lr=0.005), loss_fn=functools.partial(<class 'torch.nn.modules.loss.CrossEntropyLoss'>), epochs=3, batch_size=512, patience=10, epoch2ckpt=10, use_weights=True), pers_training_params=HP_Training_Client(build_model_fn=functools.partial(<function create_net at 0x000002E576646560>, input=39, hidden_1=256, hidden_2=256, dropout=0.1, output=2), optimizer_fn=functools.partial(<class 'torch.optim.adam.Adam'>, lr=0.005), loss_fn=functools.partial(<class 'torch.nn.modules.loss.CrossEntropyLoss'>), epochs=10, batch_size=128, patience=10, epoch2ckpt=10, use_weights=True))\n",
      "--------------------------------------------------\n",
      "\n",
      "\n",
      "--------------------------------------------------\n",
      "Client Config:  ClientConfig(metadata=Metadata_Client(id='Client_C2', log_path='./examples/experiments/not_hier/logs/log_clientC2.txt', ckpt_best='./examples/experiments/not_hier/ClientC2Ckpt/clientC2_best.pt', ckpt_epoch='./examples/experiments/not_hier/ClientC2Ckpt/clientC2_epoch.pt', metrics={'accuracy': <function accuracy_score at 0x000002E56905AE60>, 'precision': functools.partial(<function precision_score at 0x000002E56905B5B0>, labels=[0, 1], average='weighted', zero_division=0), 'recall': functools.partial(<function recall_score at 0x000002E56905B640>, labels=[0, 1], average='weighted', zero_division=0), 'f1': functools.partial(<function f1_score at 0x000002E56905B1C0>, labels=[0, 1], average='weighted', zero_division=0)}, n_classes=2, train_path='./examples/datasets/node_2/adult_train_enc.csv', val_path='./examples/datasets/node_2/adult_val_enc.csv', test_path='./examples/datasets/node_2/adult_test_enc.csv'), training_params=HP_Training_Client(build_model_fn=functools.partial(<function create_net at 0x000002E576646560>, input=39, hidden_1=256, hidden_2=256, dropout=0.1, output=2), optimizer_fn=functools.partial(<class 'torch.optim.adam.Adam'>, lr=0.005), loss_fn=functools.partial(<class 'torch.nn.modules.loss.CrossEntropyLoss'>), epochs=3, batch_size=512, patience=10, epoch2ckpt=10, use_weights=True), pers_training_params=HP_Training_Client(build_model_fn=functools.partial(<function create_net at 0x000002E576646560>, input=39, hidden_1=256, hidden_2=256, dropout=0.1, output=2), optimizer_fn=functools.partial(<class 'torch.optim.adam.Adam'>, lr=0.005), loss_fn=functools.partial(<class 'torch.nn.modules.loss.CrossEntropyLoss'>), epochs=10, batch_size=128, patience=10, epoch2ckpt=10, use_weights=True))\n",
      "--------------------------------------------------\n",
      "\n",
      "\n",
      "--------------------------------------------------\n",
      "Client Config:  ClientConfig(metadata=Metadata_Client(id='Client_C3', log_path='./examples/experiments/not_hier/logs/log_clientC3.txt', ckpt_best='./examples/experiments/not_hier/ClientC3Ckpt/clientC3_best.pt', ckpt_epoch='./examples/experiments/not_hier/ClientC3Ckpt/clientC3_epoch.pt', metrics={'accuracy': <function accuracy_score at 0x000002E56905AE60>, 'precision': functools.partial(<function precision_score at 0x000002E56905B5B0>, labels=[0, 1], average='weighted', zero_division=0), 'recall': functools.partial(<function recall_score at 0x000002E56905B640>, labels=[0, 1], average='weighted', zero_division=0), 'f1': functools.partial(<function f1_score at 0x000002E56905B1C0>, labels=[0, 1], average='weighted', zero_division=0)}, n_classes=2, train_path='./examples/datasets/node_3/adult_train_enc.csv', val_path='./examples/datasets/node_3/adult_val_enc.csv', test_path='./examples/datasets/node_3/adult_test_enc.csv'), training_params=HP_Training_Client(build_model_fn=functools.partial(<function create_net at 0x000002E576646560>, input=39, hidden_1=256, hidden_2=256, dropout=0.1, output=2), optimizer_fn=functools.partial(<class 'torch.optim.adam.Adam'>, lr=0.005), loss_fn=functools.partial(<class 'torch.nn.modules.loss.CrossEntropyLoss'>), epochs=3, batch_size=512, patience=10, epoch2ckpt=10, use_weights=True), pers_training_params=HP_Training_Client(build_model_fn=functools.partial(<function create_net at 0x000002E576646560>, input=39, hidden_1=256, hidden_2=256, dropout=0.1, output=2), optimizer_fn=functools.partial(<class 'torch.optim.adam.Adam'>, lr=0.005), loss_fn=functools.partial(<class 'torch.nn.modules.loss.CrossEntropyLoss'>), epochs=10, batch_size=128, patience=10, epoch2ckpt=10, use_weights=True))\n",
      "--------------------------------------------------\n",
      "\n",
      "Num Children =  4\n"
     ]
    },
    {
     "name": "stderr",
     "output_type": "stream",
     "text": [
      "2024-01-11 15:48:23,681\tINFO worker.py:1621 -- Started a local Ray instance.\n"
     ]
    }
   ],
   "source": [
    "tree = ET.parse(filename)\n",
    "server = parse_architecture_tag(tree)\n",
    "if only_pers:\n",
    "    server.personalize()\n",
    "else:\n",
    "    server.execute()\n",
    "    if pers:\n",
    "        server.personalize()\n",
    "server.shutdown()\n"
   ]
  },
  {
   "cell_type": "code",
   "execution_count": null,
   "id": "857e2d3c",
   "metadata": {},
   "outputs": [],
   "source": []
  }
 ],
 "metadata": {
  "kernelspec": {
   "display_name": "Python 3 (ipykernel)",
   "language": "python",
   "name": "python3"
  },
  "language_info": {
   "codemirror_mode": {
    "name": "ipython",
    "version": 3
   },
   "file_extension": ".py",
   "mimetype": "text/x-python",
   "name": "python",
   "nbconvert_exporter": "python",
   "pygments_lexer": "ipython3",
   "version": "3.10.9"
  }
 },
 "nbformat": 4,
 "nbformat_minor": 5
}
