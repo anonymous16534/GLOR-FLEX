{
 "cells": [
  {
   "cell_type": "code",
   "execution_count": 3,
   "id": "6005c9f0",
   "metadata": {},
   "outputs": [],
   "source": [
    "import numpy as np\n",
    "import pandas as pd\n",
    "import seaborn as sns\n",
    "import matplotlib.pyplot as plt\n",
    "\n",
    "import torch\n",
    "import torch.nn as nn\n",
    "import torch.optim as optim\n",
    "from torch.utils.data import Dataset, DataLoader\n",
    "\n",
    "from sklearn.preprocessing import StandardScaler    \n",
    "from sklearn.model_selection import train_test_split\n",
    "from sklearn.metrics import confusion_matrix, classification_report\n",
    "\n",
    "import random\n",
    "\n",
    "\n",
    "from sklearn.metrics import roc_curve\n",
    "from sklearn.metrics import roc_auc_score"
   ]
  },
  {
   "cell_type": "code",
   "execution_count": 4,
   "id": "abaaaec5",
   "metadata": {},
   "outputs": [],
   "source": [
    "# read the adult data set\n",
    "activity = pd.read_csv(\"path of the data\", sep=',')"
   ]
  },
  {
   "cell_type": "code",
   "execution_count": null,
   "id": "865c4b13",
   "metadata": {},
   "outputs": [],
   "source": [
    "# removing the non values and the two features fnlwgt and education\n",
    "to_drop = ['subject', 'timestamp', 'heart_rate','activityID']\n",
    "activity.drop(axis=1, columns=to_drop, inplace=True)\n",
    "\n",
    "#Data columns and their types\n",
    "activity.info()\n",
    "activity.head(5)"
   ]
  },
  {
   "cell_type": "code",
   "execution_count": null,
   "id": "1f3ee747",
   "metadata": {},
   "outputs": [],
   "source": [
    "activity = pd.concat([activity,pd.get_dummies(activity['motion'], prefix='motion')],axis=1)\n",
    "activity.drop('motion', axis=1, inplace=True)"
   ]
  },
  {
   "cell_type": "code",
   "execution_count": null,
   "id": "dd9377d5",
   "metadata": {},
   "outputs": [],
   "source": [
    "class_label = [ 'motion_n', 'motion_y']\n",
    "predictors = [a for a in activity.columns.values if a not in class_label]\n",
    "\n",
    "for p in predictors:\n",
    "    activity[p].fillna(activity[p].mean(), inplace=True)\n",
    "\n",
    "display(predictors)\n",
    "for p in predictors:\n",
    "    activity[p] = (activity[p]-activity[p].min()) / (activity[p].max() - activity[p].min())\n",
    "    activity[p].astype('float32')\n",
    "display(activity.info())\n",
    "display(activity.head(10))"
   ]
  },
  {
   "cell_type": "code",
   "execution_count": null,
   "id": "03e2e846",
   "metadata": {},
   "outputs": [],
   "source": [
    "activity.drop('motion_y', axis=1, inplace=True)"
   ]
  },
  {
   "cell_type": "code",
   "execution_count": null,
   "id": "1399739e",
   "metadata": {},
   "outputs": [],
   "source": [
    "display(activity.info())\n",
    "display(activity.head(10))"
   ]
  },
  {
   "cell_type": "code",
   "execution_count": null,
   "id": "2da12ce8",
   "metadata": {},
   "outputs": [],
   "source": [
    "normalized_adult_data=(activity-activity.min())/(activity.max()-activity.min())"
   ]
  },
  {
   "cell_type": "code",
   "execution_count": null,
   "id": "17dc2bcf",
   "metadata": {},
   "outputs": [],
   "source": [
    "FL_path = 'path to save the data'"
   ]
  },
  {
   "cell_type": "code",
   "execution_count": null,
   "id": "2b6ade7a",
   "metadata": {},
   "outputs": [],
   "source": [
    "##########For 4 clients\n",
    "rest, client_0 = train_test_split(normalized_adult_data, test_size=0.25, random_state=92)\n",
    "rest, client_1 = train_test_split(rest, test_size=0.33, random_state=92)\n",
    "client_2, client_3 = train_test_split(rest, test_size=0.5, random_state=92)\n",
    "\n",
    "######## split train and test\n",
    "train_0, test_temp_0 = train_test_split(client_0, test_size=0.2, random_state=92)\n",
    "test_0, val_0 = train_test_split(test_temp_0, test_size=0.3, random_state=92)\n",
    "train_1, test_temp_1 = train_test_split(client_1, test_size=0.2, random_state=92)\n",
    "test_1, val_1 = train_test_split(test_temp_1, test_size=0.3, random_state=92)\n",
    "train_2, test_temp_2 = train_test_split(client_2, test_size=0.2, random_state=92)\n",
    "test_2, val_2 = train_test_split(test_temp_2, test_size=0.3, random_state=92)\n",
    "train_3, test_temp_3 = train_test_split(client_3, test_size=0.2, random_state=92)\n",
    "test_3, val_3 = train_test_split(test_temp_3, test_size=0.3, random_state=92)\n",
    "\n",
    "########### save data for the model\n",
    "\n",
    "train_0.to_csv(FL_path+'node_0/adult_train_enc.csv', index=False)\n",
    "test_temp_0.to_csv(FL_path+'node_0/adult_val_enc.csv', index=False)\n",
    "test_temp_0.to_csv(FL_path+'node_0/adult_test_enc.csv', index=False)\n",
    "train_1.to_csv(FL_path+'node_1/adult_train_enc.csv', index=False)\n",
    "test_temp_1.to_csv(FL_path+'node_1/adult_val_enc.csv', index=False)\n",
    "test_temp_1.to_csv(FL_path+'node_1/adult_test_enc.csv', index=False)\n",
    "train_2.to_csv(FL_path+'node_2/adult_train_enc.csv', index=False)\n",
    "test_temp_2.to_csv(FL_path+'node_2/adult_val_enc.csv', index=False)\n",
    "test_temp_2.to_csv(FL_path+'node_2/adult_test_enc.csv', index=False)\n",
    "train_3.to_csv(FL_path+'node_3/adult_train_enc.csv', index=False)\n",
    "test_temp_3.to_csv(FL_path+'node_3/adult_val_enc.csv', index=False)\n",
    "test_temp_3.to_csv(FL_path+'node_3/adult_test_enc.csv', index=False)"
   ]
  },
  {
   "cell_type": "code",
   "execution_count": null,
   "id": "b9599810",
   "metadata": {},
   "outputs": [],
   "source": []
  }
 ],
 "metadata": {
  "kernelspec": {
   "display_name": "Python 3 (ipykernel)",
   "language": "python",
   "name": "python3"
  },
  "language_info": {
   "codemirror_mode": {
    "name": "ipython",
    "version": 3
   },
   "file_extension": ".py",
   "mimetype": "text/x-python",
   "name": "python",
   "nbconvert_exporter": "python",
   "pygments_lexer": "ipython3",
   "version": "3.10.9"
  }
 },
 "nbformat": 4,
 "nbformat_minor": 5
}
